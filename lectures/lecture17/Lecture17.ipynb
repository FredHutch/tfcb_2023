{
 "cells": [
  {
   "attachments": {},
   "cell_type": "markdown",
   "metadata": {},
   "source": [
    "# Working with __processed__ immune repertoire sequencing data using `R`"
   ]
  },
  {
   "attachments": {},
   "cell_type": "markdown",
   "metadata": {},
   "source": [
    "-----\n",
    "\n",
    "## __Overview:__\n",
    "\n",
    "We will be using `tidyverse` and `Bioconductor` to work with __pre-processed__ immune repertoire sequencing data in `R`.\n",
    "You have already learned about both of these collections of packages, and today's class will give you the opportunity to practice using them in a new biological context.\n",
    "\n",
    "#### __Goals for class:__\n",
    "1. Familiarize with the format of __processed__ immune repertoire sequencing data\n",
    "2. Work through an example analysis, and practice on your own\n",
    "\n",
    "#### __Sidenote:__\n",
    "We will not be discussing methods for processing __raw__ immune repertoire sequencing data. If you are interested in this, I encourage you to check out the following packages (most of which can be run on the command line):\n",
    "\n",
    "- [MiXCR](https://mixcr-cn.readthedocs.io/en/latest/index.html): a standard package for processing raw immune repertoire sequencing data and producing basic sequence annotations\n",
    "- [TRUST4](https://github.com/liulab-dfci/TRUST4): another package option for processing raw immune repertoire sequencing data and producing basic sequence annotations\n",
    "- [IGoR](https://qmarcou.github.io/IGoR/): a package for probabilistic immune repertoire sequence annotation and simulation\n",
    "- there are many more out there...\n",
    "\n",
    "----"
   ]
  },
  {
   "attachments": {},
   "cell_type": "markdown",
   "metadata": {},
   "source": [
    "## __Load packages__"
   ]
  },
  {
   "cell_type": "code",
   "execution_count": 143,
   "metadata": {
    "vscode": {
     "languageId": "r"
    }
   },
   "outputs": [],
   "source": [
    "library(Biostrings)\n",
    "library(tidyverse)"
   ]
  },
  {
   "attachments": {},
   "cell_type": "markdown",
   "metadata": {},
   "source": [
    "## __Loading example datasets__"
   ]
  },
  {
   "cell_type": "code",
   "execution_count": 124,
   "metadata": {
    "vscode": {
     "languageId": "r"
    }
   },
   "outputs": [],
   "source": [
    "indiv1 <- read.csv('https://drive.google.com/uc?id=1b1oXlhg99_YCPK_HzFL2ohYPDxvTbQOo', sep = '\\t', header = TRUE)\n",
    "indiv2 <- read.csv('https://drive.google.com/uc?id=10qMY16H9wD_wuC4ISAJRTRx_bOeclg5D', sep = '\\t', header = TRUE)"
   ]
  },
  {
   "cell_type": "markdown",
   "metadata": {},
   "source": [
    "Let's take a look at the data. \n",
    "Recall that each annotated TCRB sequence takes the form:\n",
    "\n",
    "5'-[__V gene__]-(_possible V gene deletion_)-[__V-D insertion__]-(_possible D gene deletion_)-[__D gene__]-(_possible D gene deletion_)-[__D-J insertion__]-(_possible J gene deletion_)-[__J gene__]-3'\n",
    "\n",
    "Using the column names given by the file, we can interpret this as:\n",
    "\n",
    "5'-[__`v_gene`__]-(_`v_trim`_)-[__`vd_insert_nucs`__]-(_`d5_trim`_)-[__`d_gene`__]-(_`d3_trim`_)-[__`dj_insert_nucs`__]-(_`j_trim`_)-[__`j_gene`__]-3'\n",
    "\n",
    "Here is a summary of what each column shows:\n",
    "\n",
    "* `cdr3_nucseq`: nucleic acid sequence of the CDR3 region of the receptor sequence\n",
    "* `cdr3`: amino acid sequence of the CDR3 region of the receptor sequence\n",
    "* `v_gene`: identity of the V-gene used in the receptor sequence\n",
    "* `d_gene`: identity of the D-gene used in the receptor sequence\n",
    "* `j_gene`: identity of the J-gene used in the receptor sequence\n",
    "* `v_trim`: number of nucleotides deleted from the 3' end of the V-gene in the receptor sequence\n",
    "* `d5_trim`: number of nucleotides deleted from the 5' end of the D-gene in the receptor sequence\n",
    "* `d3_trim`: number of nucleotides deleted from the 3' end of the D-gene in the receptor seque\n",
    "* `j_trim`: number of nucleotides deleted from the 5' end of the J-gene in the receptor seque\n",
    "* `vd_insert`: number of nucleotides inserted between the V- and the D-gene in the receptor sequence\n",
    "* `dj_insert`: number of nucleotides inserted between the D- and the J-gene in the receptor sequence\n",
    "* `vd_insert_nucs`: sequence of nucleotides inserted between the V- and the D-gene in the receptor sequence\n",
    "* `dj_insert_nucs`: sequence of nucleotides inserted between the D- and the J-gene in the receptor sequence\n",
    "* `productive`: whether the sequence can be translated into a receptor protein sequence"
   ]
  },
  {
   "cell_type": "code",
   "execution_count": 125,
   "metadata": {
    "vscode": {
     "languageId": "r"
    }
   },
   "outputs": [
    {
     "data": {
      "text/html": [
       "<table class=\"dataframe\">\n",
       "<caption>A data.frame: 6 × 15</caption>\n",
       "<thead>\n",
       "\t<tr><th></th><th scope=col>seq_index</th><th scope=col>cdr3_nucseq</th><th scope=col>cdr3</th><th scope=col>v_gene</th><th scope=col>d_gene</th><th scope=col>j_gene</th><th scope=col>v_trim</th><th scope=col>d5_trim</th><th scope=col>d3_trim</th><th scope=col>j_trim</th><th scope=col>vd_insert</th><th scope=col>dj_insert</th><th scope=col>vd_insert_nucs</th><th scope=col>dj_insert_nucs</th><th scope=col>productive</th></tr>\n",
       "\t<tr><th></th><th scope=col>&lt;int&gt;</th><th scope=col>&lt;chr&gt;</th><th scope=col>&lt;chr&gt;</th><th scope=col>&lt;chr&gt;</th><th scope=col>&lt;chr&gt;</th><th scope=col>&lt;chr&gt;</th><th scope=col>&lt;int&gt;</th><th scope=col>&lt;int&gt;</th><th scope=col>&lt;int&gt;</th><th scope=col>&lt;int&gt;</th><th scope=col>&lt;int&gt;</th><th scope=col>&lt;int&gt;</th><th scope=col>&lt;chr&gt;</th><th scope=col>&lt;chr&gt;</th><th scope=col>&lt;lgl&gt;</th></tr>\n",
       "</thead>\n",
       "<tbody>\n",
       "\t<tr><th scope=row>1</th><td>0</td><td>TGTGCCAGTAGTATTTTACAATGAGCAGTTCTTC</td><td>           </td><td>TRBV19*01  </td><td>TRBD1*01</td><td>TRBJ2-1*01</td><td>3</td><td> 0</td><td>12</td><td> 4</td><td>0</td><td>2</td><td>    </td><td>TT</td><td>FALSE</td></tr>\n",
       "\t<tr><th scope=row>2</th><td>1</td><td>TGTGCCAGCAGCTTGAATCACGAGCAGTACTTC </td><td>CASSLNHEQYF</td><td>TRBV5-6*01 </td><td>TRBD2*02</td><td>TRBJ2-7*01</td><td>1</td><td> 3</td><td>13</td><td> 5</td><td>4</td><td>0</td><td>AATC</td><td>  </td><td> TRUE</td></tr>\n",
       "\t<tr><th scope=row>3</th><td>2</td><td>TGCGCCAGCAGCTTGGCAGAGACCCAGTACTTC </td><td>CASSLAETQYF</td><td>TRBV5-1*01 </td><td>TRBD1*01</td><td>TRBJ2-5*01</td><td>2</td><td> 9</td><td> 0</td><td> 4</td><td>0</td><td>0</td><td>    </td><td>  </td><td> TRUE</td></tr>\n",
       "\t<tr><th scope=row>4</th><td>3</td><td>TGTGCCAGCAGGTGGCAATCAGCCCCAGCATTTT</td><td>           </td><td>TRBV7-9*01 </td><td>TRBD2*02</td><td>TRBJ1-5*01</td><td>7</td><td>10</td><td> 4</td><td> 2</td><td>0</td><td>2</td><td>    </td><td>GT</td><td>FALSE</td></tr>\n",
       "\t<tr><th scope=row>5</th><td>4</td><td>TGTGCCAGCAGCCTGAGCTTTCTTT         </td><td>           </td><td>TRBV3-2*01 </td><td>TRBD2*02</td><td>TRBJ1-1*01</td><td>4</td><td>14</td><td> 1</td><td>11</td><td>1</td><td>1</td><td>T   </td><td>A </td><td>FALSE</td></tr>\n",
       "\t<tr><th scope=row>6</th><td>5</td><td>TGTGCCAGCAGGTGTATTTT              </td><td>           </td><td>TRBV12-3*01</td><td>TRBD2*02</td><td>TRBJ1-3*01</td><td>6</td><td> 1</td><td>14</td><td>16</td><td>2</td><td>0</td><td>GT  </td><td>  </td><td>FALSE</td></tr>\n",
       "</tbody>\n",
       "</table>\n"
      ],
      "text/latex": [
       "A data.frame: 6 × 15\n",
       "\\begin{tabular}{r|lllllllllllllll}\n",
       "  & seq\\_index & cdr3\\_nucseq & cdr3 & v\\_gene & d\\_gene & j\\_gene & v\\_trim & d5\\_trim & d3\\_trim & j\\_trim & vd\\_insert & dj\\_insert & vd\\_insert\\_nucs & dj\\_insert\\_nucs & productive\\\\\n",
       "  & <int> & <chr> & <chr> & <chr> & <chr> & <chr> & <int> & <int> & <int> & <int> & <int> & <int> & <chr> & <chr> & <lgl>\\\\\n",
       "\\hline\n",
       "\t1 & 0 & TGTGCCAGTAGTATTTTACAATGAGCAGTTCTTC &             & TRBV19*01   & TRBD1*01 & TRBJ2-1*01 & 3 &  0 & 12 &  4 & 0 & 2 &      & TT & FALSE\\\\\n",
       "\t2 & 1 & TGTGCCAGCAGCTTGAATCACGAGCAGTACTTC  & CASSLNHEQYF & TRBV5-6*01  & TRBD2*02 & TRBJ2-7*01 & 1 &  3 & 13 &  5 & 4 & 0 & AATC &    &  TRUE\\\\\n",
       "\t3 & 2 & TGCGCCAGCAGCTTGGCAGAGACCCAGTACTTC  & CASSLAETQYF & TRBV5-1*01  & TRBD1*01 & TRBJ2-5*01 & 2 &  9 &  0 &  4 & 0 & 0 &      &    &  TRUE\\\\\n",
       "\t4 & 3 & TGTGCCAGCAGGTGGCAATCAGCCCCAGCATTTT &             & TRBV7-9*01  & TRBD2*02 & TRBJ1-5*01 & 7 & 10 &  4 &  2 & 0 & 2 &      & GT & FALSE\\\\\n",
       "\t5 & 4 & TGTGCCAGCAGCCTGAGCTTTCTTT          &             & TRBV3-2*01  & TRBD2*02 & TRBJ1-1*01 & 4 & 14 &  1 & 11 & 1 & 1 & T    & A  & FALSE\\\\\n",
       "\t6 & 5 & TGTGCCAGCAGGTGTATTTT               &             & TRBV12-3*01 & TRBD2*02 & TRBJ1-3*01 & 6 &  1 & 14 & 16 & 2 & 0 & GT   &    & FALSE\\\\\n",
       "\\end{tabular}\n"
      ],
      "text/markdown": [
       "\n",
       "A data.frame: 6 × 15\n",
       "\n",
       "| <!--/--> | seq_index &lt;int&gt; | cdr3_nucseq &lt;chr&gt; | cdr3 &lt;chr&gt; | v_gene &lt;chr&gt; | d_gene &lt;chr&gt; | j_gene &lt;chr&gt; | v_trim &lt;int&gt; | d5_trim &lt;int&gt; | d3_trim &lt;int&gt; | j_trim &lt;int&gt; | vd_insert &lt;int&gt; | dj_insert &lt;int&gt; | vd_insert_nucs &lt;chr&gt; | dj_insert_nucs &lt;chr&gt; | productive &lt;lgl&gt; |\n",
       "|---|---|---|---|---|---|---|---|---|---|---|---|---|---|---|---|\n",
       "| 1 | 0 | TGTGCCAGTAGTATTTTACAATGAGCAGTTCTTC | <!----> | TRBV19*01   | TRBD1*01 | TRBJ2-1*01 | 3 |  0 | 12 |  4 | 0 | 2 | <!----> | TT | FALSE |\n",
       "| 2 | 1 | TGTGCCAGCAGCTTGAATCACGAGCAGTACTTC  | CASSLNHEQYF | TRBV5-6*01  | TRBD2*02 | TRBJ2-7*01 | 1 |  3 | 13 |  5 | 4 | 0 | AATC | <!----> |  TRUE |\n",
       "| 3 | 2 | TGCGCCAGCAGCTTGGCAGAGACCCAGTACTTC  | CASSLAETQYF | TRBV5-1*01  | TRBD1*01 | TRBJ2-5*01 | 2 |  9 |  0 |  4 | 0 | 0 | <!----> | <!----> |  TRUE |\n",
       "| 4 | 3 | TGTGCCAGCAGGTGGCAATCAGCCCCAGCATTTT | <!----> | TRBV7-9*01  | TRBD2*02 | TRBJ1-5*01 | 7 | 10 |  4 |  2 | 0 | 2 | <!----> | GT | FALSE |\n",
       "| 5 | 4 | TGTGCCAGCAGCCTGAGCTTTCTTT          | <!----> | TRBV3-2*01  | TRBD2*02 | TRBJ1-1*01 | 4 | 14 |  1 | 11 | 1 | 1 | T    | A  | FALSE |\n",
       "| 6 | 5 | TGTGCCAGCAGGTGTATTTT               | <!----> | TRBV12-3*01 | TRBD2*02 | TRBJ1-3*01 | 6 |  1 | 14 | 16 | 2 | 0 | GT   | <!----> | FALSE |\n",
       "\n"
      ],
      "text/plain": [
       "  seq_index cdr3_nucseq                        cdr3        v_gene      d_gene  \n",
       "1 0         TGTGCCAGTAGTATTTTACAATGAGCAGTTCTTC             TRBV19*01   TRBD1*01\n",
       "2 1         TGTGCCAGCAGCTTGAATCACGAGCAGTACTTC  CASSLNHEQYF TRBV5-6*01  TRBD2*02\n",
       "3 2         TGCGCCAGCAGCTTGGCAGAGACCCAGTACTTC  CASSLAETQYF TRBV5-1*01  TRBD1*01\n",
       "4 3         TGTGCCAGCAGGTGGCAATCAGCCCCAGCATTTT             TRBV7-9*01  TRBD2*02\n",
       "5 4         TGTGCCAGCAGCCTGAGCTTTCTTT                      TRBV3-2*01  TRBD2*02\n",
       "6 5         TGTGCCAGCAGGTGTATTTT                           TRBV12-3*01 TRBD2*02\n",
       "  j_gene     v_trim d5_trim d3_trim j_trim vd_insert dj_insert vd_insert_nucs\n",
       "1 TRBJ2-1*01 3       0      12       4     0         2                       \n",
       "2 TRBJ2-7*01 1       3      13       5     4         0         AATC          \n",
       "3 TRBJ2-5*01 2       9       0       4     0         0                       \n",
       "4 TRBJ1-5*01 7      10       4       2     0         2                       \n",
       "5 TRBJ1-1*01 4      14       1      11     1         1         T             \n",
       "6 TRBJ1-3*01 6       1      14      16     2         0         GT            \n",
       "  dj_insert_nucs productive\n",
       "1 TT             FALSE     \n",
       "2                 TRUE     \n",
       "3                 TRUE     \n",
       "4 GT             FALSE     \n",
       "5 A              FALSE     \n",
       "6                FALSE     "
      ]
     },
     "metadata": {},
     "output_type": "display_data"
    }
   ],
   "source": [
    "head(indiv2)"
   ]
  },
  {
   "cell_type": "markdown",
   "metadata": {},
   "source": [
    "## Example analyses __exploring recombination statistics__ using `tidyverse` and `Bioconductor`"
   ]
  },
  {
   "cell_type": "markdown",
   "metadata": {},
   "source": [
    "#### Find __which V-gene occurs most frequently__ for individual 2 using `tidyverse`"
   ]
  },
  {
   "cell_type": "code",
   "execution_count": 145,
   "metadata": {
    "vscode": {
     "languageId": "r"
    }
   },
   "outputs": [
    {
     "data": {
      "text/html": [
       "<table class=\"dataframe\">\n",
       "<caption>A tibble: 6 × 2</caption>\n",
       "<thead>\n",
       "\t<tr><th scope=col>v_gene</th><th scope=col>total_count</th></tr>\n",
       "\t<tr><th scope=col>&lt;chr&gt;</th><th scope=col>&lt;int&gt;</th></tr>\n",
       "</thead>\n",
       "<tbody>\n",
       "\t<tr><td>TRBV20-1*01</td><td>7510</td></tr>\n",
       "\t<tr><td>TRBV30*01  </td><td>3846</td></tr>\n",
       "\t<tr><td>TRBV19*01  </td><td>3358</td></tr>\n",
       "\t<tr><td>TRBV6-5*01 </td><td>3271</td></tr>\n",
       "\t<tr><td>TRBV9*01   </td><td>2999</td></tr>\n",
       "\t<tr><td>TRBV18*01  </td><td>2879</td></tr>\n",
       "</tbody>\n",
       "</table>\n"
      ],
      "text/latex": [
       "A tibble: 6 × 2\n",
       "\\begin{tabular}{ll}\n",
       " v\\_gene & total\\_count\\\\\n",
       " <chr> & <int>\\\\\n",
       "\\hline\n",
       "\t TRBV20-1*01 & 7510\\\\\n",
       "\t TRBV30*01   & 3846\\\\\n",
       "\t TRBV19*01   & 3358\\\\\n",
       "\t TRBV6-5*01  & 3271\\\\\n",
       "\t TRBV9*01    & 2999\\\\\n",
       "\t TRBV18*01   & 2879\\\\\n",
       "\\end{tabular}\n"
      ],
      "text/markdown": [
       "\n",
       "A tibble: 6 × 2\n",
       "\n",
       "| v_gene &lt;chr&gt; | total_count &lt;int&gt; |\n",
       "|---|---|\n",
       "| TRBV20-1*01 | 7510 |\n",
       "| TRBV30*01   | 3846 |\n",
       "| TRBV19*01   | 3358 |\n",
       "| TRBV6-5*01  | 3271 |\n",
       "| TRBV9*01    | 2999 |\n",
       "| TRBV18*01   | 2879 |\n",
       "\n"
      ],
      "text/plain": [
       "  v_gene      total_count\n",
       "1 TRBV20-1*01 7510       \n",
       "2 TRBV30*01   3846       \n",
       "3 TRBV19*01   3358       \n",
       "4 TRBV6-5*01  3271       \n",
       "5 TRBV9*01    2999       \n",
       "6 TRBV18*01   2879       "
      ]
     },
     "metadata": {},
     "output_type": "display_data"
    }
   ],
   "source": [
    "indiv2 %>%\n",
    "    group_by(v_gene) %>%\n",
    "    summarise(total_count = n()) %>%\n",
    "    arrange(desc(total_count)) %>%\n",
    "    head()"
   ]
  },
  {
   "cell_type": "markdown",
   "metadata": {},
   "source": [
    "#### Calculate __V-D N-insertion composition frequencies__ within individual 2 using `Bioconductor`"
   ]
  },
  {
   "cell_type": "code",
   "execution_count": 127,
   "metadata": {
    "vscode": {
     "languageId": "r"
    }
   },
   "outputs": [],
   "source": [
    "# filter for sequences that have VD N-inserts\n",
    "n_indiv2 <- indiv2 %>%\n",
    "                filter(vd_insert != 0)"
   ]
  },
  {
   "cell_type": "code",
   "execution_count": 128,
   "metadata": {
    "vscode": {
     "languageId": "r"
    }
   },
   "outputs": [
    {
     "data": {
      "text/plain": [
       "DNAStringSet object of length 63505:\n",
       "        width seq\n",
       "    [1]     4 \u001b[47m\u001b[30mA\u001b[39m\u001b[49m\u001b[47m\u001b[30mA\u001b[39m\u001b[49m\u001b[47m\u001b[30mT\u001b[39m\u001b[49m\u001b[47m\u001b[30mC\u001b[39m\u001b[49m\n",
       "    [2]     1 \u001b[47m\u001b[30mT\u001b[39m\u001b[49m\n",
       "    [3]     2 \u001b[47m\u001b[30mG\u001b[39m\u001b[49m\u001b[47m\u001b[30mT\u001b[39m\u001b[49m\n",
       "    [4]     3 \u001b[47m\u001b[30mC\u001b[39m\u001b[49m\u001b[47m\u001b[30mG\u001b[39m\u001b[49m\u001b[47m\u001b[30mG\u001b[39m\u001b[49m\n",
       "    [5]     2 \u001b[47m\u001b[30mT\u001b[39m\u001b[49m\u001b[47m\u001b[30mA\u001b[39m\u001b[49m\n",
       "    ...   ... ...\n",
       "[63501]    11 \u001b[47m\u001b[30mC\u001b[39m\u001b[49m\u001b[47m\u001b[30mT\u001b[39m\u001b[49m\u001b[47m\u001b[30mA\u001b[39m\u001b[49m\u001b[47m\u001b[30mC\u001b[39m\u001b[49m\u001b[47m\u001b[30mA\u001b[39m\u001b[49m\u001b[47m\u001b[30mA\u001b[39m\u001b[49m\u001b[47m\u001b[30mC\u001b[39m\u001b[49m\u001b[47m\u001b[30mT\u001b[39m\u001b[49m\u001b[47m\u001b[30mT\u001b[39m\u001b[49m\u001b[47m\u001b[30mA\u001b[39m\u001b[49m\u001b[47m\u001b[30mA\u001b[39m\u001b[49m\n",
       "[63502]     5 \u001b[47m\u001b[30mT\u001b[39m\u001b[49m\u001b[47m\u001b[30mC\u001b[39m\u001b[49m\u001b[47m\u001b[30mC\u001b[39m\u001b[49m\u001b[47m\u001b[30mA\u001b[39m\u001b[49m\u001b[47m\u001b[30mA\u001b[39m\u001b[49m\n",
       "[63503]     6 \u001b[47m\u001b[30mG\u001b[39m\u001b[49m\u001b[47m\u001b[30mG\u001b[39m\u001b[49m\u001b[47m\u001b[30mT\u001b[39m\u001b[49m\u001b[47m\u001b[30mG\u001b[39m\u001b[49m\u001b[47m\u001b[30mC\u001b[39m\u001b[49m\u001b[47m\u001b[30mG\u001b[39m\u001b[49m\n",
       "[63504]     7 \u001b[47m\u001b[30mC\u001b[39m\u001b[49m\u001b[47m\u001b[30mC\u001b[39m\u001b[49m\u001b[47m\u001b[30mG\u001b[39m\u001b[49m\u001b[47m\u001b[30mT\u001b[39m\u001b[49m\u001b[47m\u001b[30mC\u001b[39m\u001b[49m\u001b[47m\u001b[30mG\u001b[39m\u001b[49m\u001b[47m\u001b[30mG\u001b[39m\u001b[49m\n",
       "[63505]     5 \u001b[47m\u001b[30mC\u001b[39m\u001b[49m\u001b[47m\u001b[30mC\u001b[39m\u001b[49m\u001b[47m\u001b[30mC\u001b[39m\u001b[49m\u001b[47m\u001b[30mC\u001b[39m\u001b[49m\u001b[47m\u001b[30mC\u001b[39m\u001b[49m"
      ]
     },
     "metadata": {},
     "output_type": "display_data"
    }
   ],
   "source": [
    "# convert VD N-insert column to a BioStrings `DNAStringSet`\n",
    "nucs_indiv2 <- DNAStringSet(n_indiv2$vd_insert_nucs)\n",
    "\n",
    "nucs_indiv2"
   ]
  },
  {
   "cell_type": "code",
   "execution_count": 129,
   "metadata": {
    "vscode": {
     "languageId": "r"
    }
   },
   "outputs": [
    {
     "name": "stdout",
     "output_type": "stream",
     "text": [
      "        A         T         C         G \n",
      "0.2036577 0.2102730 0.3316450 0.2544242 \n"
     ]
    }
   ],
   "source": [
    "# get frequencies\n",
    "nucs_freq2 <- nucs_indiv2 %>%\n",
    "              letterFrequency(c(\"A\", \"T\", \"C\", \"G\"), collapse = TRUE, as.prob = TRUE)\n",
    "\n",
    "print(nucs_freq2)"
   ]
  },
  {
   "cell_type": "code",
   "execution_count": 130,
   "metadata": {
    "vscode": {
     "languageId": "r"
    }
   },
   "outputs": [
    {
     "data": {
      "text/html": [
       "<table class=\"dataframe\">\n",
       "<caption>A data.frame: 4 × 2</caption>\n",
       "<thead>\n",
       "\t<tr><th scope=col>base</th><th scope=col>frequency</th></tr>\n",
       "\t<tr><th scope=col>&lt;chr&gt;</th><th scope=col>&lt;dbl&gt;</th></tr>\n",
       "</thead>\n",
       "<tbody>\n",
       "\t<tr><td>A</td><td>0.2036577</td></tr>\n",
       "\t<tr><td>T</td><td>0.2102730</td></tr>\n",
       "\t<tr><td>C</td><td>0.3316450</td></tr>\n",
       "\t<tr><td>G</td><td>0.2544242</td></tr>\n",
       "</tbody>\n",
       "</table>\n"
      ],
      "text/latex": [
       "A data.frame: 4 × 2\n",
       "\\begin{tabular}{ll}\n",
       " base & frequency\\\\\n",
       " <chr> & <dbl>\\\\\n",
       "\\hline\n",
       "\t A & 0.2036577\\\\\n",
       "\t T & 0.2102730\\\\\n",
       "\t C & 0.3316450\\\\\n",
       "\t G & 0.2544242\\\\\n",
       "\\end{tabular}\n"
      ],
      "text/markdown": [
       "\n",
       "A data.frame: 4 × 2\n",
       "\n",
       "| base &lt;chr&gt; | frequency &lt;dbl&gt; |\n",
       "|---|---|\n",
       "| A | 0.2036577 |\n",
       "| T | 0.2102730 |\n",
       "| C | 0.3316450 |\n",
       "| G | 0.2544242 |\n",
       "\n"
      ],
      "text/plain": [
       "  base frequency\n",
       "1 A    0.2036577\n",
       "2 T    0.2102730\n",
       "3 C    0.3316450\n",
       "4 G    0.2544242"
      ]
     },
     "metadata": {},
     "output_type": "display_data"
    }
   ],
   "source": [
    "# convert frequencies to data.frame\n",
    "nucs_freq2_df <- data.frame(base = names(nucs_freq2), frequency = nucs_freq2, row.names = NULL)\n",
    "\n",
    "nucs_freq2_df"
   ]
  },
  {
   "cell_type": "code",
   "execution_count": 131,
   "metadata": {
    "vscode": {
     "languageId": "r"
    }
   },
   "outputs": [
    {
     "data": {
      "image/png": "[encoded data removed]",
      "text/plain": [
       "plot without title"
      ]
     },
     "metadata": {
      "image/png": {
       "height": 300,
       "width": 600
      }
     },
     "output_type": "display_data"
    }
   ],
   "source": [
    "# plot frequencies\n",
    "options(repr.plot.width = 10, repr.plot.height = 5)\n",
    "\n",
    "nucs_freq2_df %>%\n",
    "    ggplot(aes(x = base, y = frequency)) +\n",
    "    geom_bar(stat = 'identity') +\n",
    "    theme_classic(base_size = 25)"
   ]
  },
  {
   "cell_type": "markdown",
   "metadata": {},
   "source": [
    "# __In-class exercises__\n",
    "\n",
    "(30-40 minutes)"
   ]
  },
  {
   "cell_type": "markdown",
   "metadata": {},
   "source": [
    "### __Problem 1:__ Calculate the N-insertion base frequencies for each N-insertion junction (combining data from both individuals) and plot them in a grouped barplot. Are they similar?\n",
    "\n",
    "I have made a code chunk for each step"
   ]
  },
  {
   "cell_type": "code",
   "execution_count": 132,
   "metadata": {
    "vscode": {
     "languageId": "r"
    }
   },
   "outputs": [],
   "source": [
    "# combine data from both individuals (hint: use `rbind` to join dataframes)\n"
   ]
  },
  {
   "cell_type": "code",
   "execution_count": 133,
   "metadata": {
    "vscode": {
     "languageId": "r"
    }
   },
   "outputs": [],
   "source": [
    "# calculate frequencies of VD and DJ N-insertion nucleotides separately\n",
    "## hint: make sure to convert frequencies into dataframes like we did above\n",
    "## hint 2: you will want to add a new column to each dataframe to specify the junction (i.e. \"VD\" or \"DJ\")\n"
   ]
  },
  {
   "cell_type": "code",
   "execution_count": 134,
   "metadata": {
    "vscode": {
     "languageId": "r"
    }
   },
   "outputs": [],
   "source": [
    "# combine frequency dataframes (hint: you'll want to use `rbind` again)\n"
   ]
  },
  {
   "cell_type": "code",
   "execution_count": 135,
   "metadata": {
    "vscode": {
     "languageId": "r"
    }
   },
   "outputs": [],
   "source": [
    "# plot grouped barplot\n",
    "## hint: to make a grouped barplot, you'll need to specify a fill/color aesthetic and specify `position = \"dodge\"` within the `geom_bar`` function\n"
   ]
  },
  {
   "cell_type": "markdown",
   "metadata": {},
   "source": [
    "### __Problem 2:__ Find the rearrangement/s (`cdr3` column) which has the largest overlap between the two individuals.\n",
    "\n",
    "Again, I have made a code chunk for each step\n"
   ]
  },
  {
   "cell_type": "code",
   "execution_count": 136,
   "metadata": {
    "vscode": {
     "languageId": "r"
    }
   },
   "outputs": [],
   "source": [
    "# find the cdr3 (amino acid) counts for each individual seperately\n"
   ]
  },
  {
   "cell_type": "code",
   "execution_count": 137,
   "metadata": {
    "vscode": {
     "languageId": "r"
    }
   },
   "outputs": [],
   "source": [
    "# merge count dataframes from both individuals\n",
    "## Hint: this merged dataframe should have three columns: cdr3 AA sequence, count for individual 1, and count for individual 2\n",
    "\n"
   ]
  },
  {
   "cell_type": "code",
   "execution_count": 138,
   "metadata": {
    "vscode": {
     "languageId": "r"
    }
   },
   "outputs": [],
   "source": [
    "# calculate the cdr3 overlap between the two individuals\n",
    "## i.e. for each sequence, the minimum count between the two individuals\n",
    "## Hint: you may find the `pmin` function to be useful...\n",
    "\n"
   ]
  },
  {
   "cell_type": "code",
   "execution_count": 139,
   "metadata": {
    "vscode": {
     "languageId": "r"
    }
   },
   "outputs": [],
   "source": [
    "# find the cdr3 sequence/s that have the largest overlap, and filter the overlap dataframe accordingly\n"
   ]
  },
  {
   "cell_type": "markdown",
   "metadata": {},
   "source": [
    "### __Challenge:__ Pick one of the largest overlap rearrangements--which nucleotide rearrangment most commonly leads to that CDR3 amino acid sequence for each individual?\n",
    "\n",
    "Again, I've provided a code chunk for each step"
   ]
  },
  {
   "cell_type": "code",
   "execution_count": 140,
   "metadata": {
    "vscode": {
     "languageId": "r"
    }
   },
   "outputs": [],
   "source": [
    "# choose one of the max overlap cdr3 amino acid sequences     \n"
   ]
  },
  {
   "cell_type": "code",
   "execution_count": 141,
   "metadata": {
    "vscode": {
     "languageId": "r"
    }
   },
   "outputs": [],
   "source": [
    "# for each individual, find the NT rearrangment that most commonly gives rise to the AA sequence\n"
   ]
  },
  {
   "cell_type": "code",
   "execution_count": 142,
   "metadata": {
    "vscode": {
     "languageId": "r"
    }
   },
   "outputs": [],
   "source": [
    "# determine whether these sequences the same between the two individuals\n"
   ]
  }
 ],
 "metadata": {
  "kernelspec": {
   "display_name": "R",
   "language": "R",
   "name": "ir"
  },
  "language_info": {
   "codemirror_mode": "r",
   "file_extension": ".r",
   "mimetype": "text/x-r-source",
   "name": "R",
   "pygments_lexer": "r",
   "version": "4.1.3"
  },
  "orig_nbformat": 4,
  "vscode": {
   "interpreter": {
    "hash": "d4d1e4263499bec80672ea0156c357c1ee493ec2b1c70f0acce89fc37c4a6abe"
   }
  }
 },
 "nbformat": 4,
 "nbformat_minor": 2
}
