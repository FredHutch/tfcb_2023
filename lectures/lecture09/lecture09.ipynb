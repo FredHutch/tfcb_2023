{
 "cells": [
  {
   "attachments": {},
   "cell_type": "markdown",
   "metadata": {},
   "source": [
    "# __Lecture 09: Practical analyses in Python (continued)__\n",
    "\n",
    "----\n",
    "#### __Announcement:__ Homework 4 will be due on Nov 2\n",
    "\n",
    "#### __On Tuesday, we talked about:__\n",
    "- how to define functions in python\n",
    "- the `re` module\n",
    "\n",
    "#### __Today we will:__\n",
    "- practice using the `re` module\n",
    "- learn about (and practice) using the `biopython` module\n",
    "\n",
    "###  \n",
    "----"
   ]
  },
  {
   "attachments": {},
   "cell_type": "markdown",
   "metadata": {},
   "source": [
    "## __Review:__ Regular expressions\n",
    "\n",
    "The `re` module offers a set of functions that allows us to search a string for a match using a __search pattern__ \n",
    "\n",
    "Here are some _common elements_ to have in your search pattern:\n",
    "* __letter characters__ which returns a match where the string contains the specified letter (e.g. `A`, `B`, `C`, ...)\n",
    "* __special characters__ which returns a match where the string contains the specified special character; these must be preceded by a `\\`\n",
    "* `\\d` which returns a match where the string contains __digits__ (numbers from `0`-`9`)\n",
    "\n",
    "You may also want to add the following _customizations_:\n",
    "* `.` matches __any single character__\n",
    "* `[]` specifies a __set of characters__ to search for (e.g. `[a-n]`)\n",
    "* `()` __capture and group__ everything contained inside, and search the string for everything together\n",
    "* `?P<name>` indicates a __named search pattern__ group with name `name`\n",
    "* `+` specifies __one or more occurrences__ of a certain pattern element\n",
    "* `{}` specifies __exactly the specified number of occurrences__ of a certain pattern element\n",
    "* `$` specifies the __end of the string__\n",
    "* `^` specifies the __beginning of the string__"
   ]
  },
  {
   "attachments": {},
   "cell_type": "markdown",
   "metadata": {},
   "source": [
    "Always remember to import the `re` module if you'd like to work with regular expressions:"
   ]
  },
  {
   "cell_type": "code",
   "execution_count": 37,
   "metadata": {},
   "outputs": [],
   "source": [
    "import re"
   ]
  },
  {
   "attachments": {},
   "cell_type": "markdown",
   "metadata": {},
   "source": [
    "## __Review practice:__ using regular expressions to parse barcodes\n",
    "Now we will use regular expressions to parse barcodes from nucleotide sequences.\n",
    "For instance, you might have to do this in a single-cell RNA-seq experiment where there is a barcode at the end of each read telling you the cell that the read came from.\n",
    "\n",
    "Imagine that our valid molecules should have sequences like this:\n",
    "\n",
    "`CTAGCNNNNNNGATCA`\n",
    "\n",
    "See how there is a 6-nucleotide barcode in the center of the sequence.\n",
    "We have a list of sequences, and want to parse through them to figure out which ones meet the expected pattern--and get the barcode from those that do:"
   ]
  },
  {
   "cell_type": "code",
   "execution_count": 38,
   "metadata": {},
   "outputs": [],
   "source": [
    "seqs = ['CTAGCatcgatGATCA',  # has barcode ATCGAT\n",
    "        'CCAGCatagcaGATCA',  # does not have expected 5' sequence\n",
    "        'CTAGCtacagGATCA',   # barcode too short\n",
    "        'CTAGCgaccatGATCA',  # has barcode GACCAT\n",
    "        'CTAGCatcgatGATCA',  # has barcode ATCGAT\n",
    "        'CTAGCatcgatGGTCA',  # does not have expected 3' sequence\n",
    "        ]"
   ]
  },
  {
   "cell_type": "markdown",
   "metadata": {},
   "source": [
    "Write a function that parses these barcoded sequences and gets the ones with valid barcodes.\n",
    "In doing this, note that:\n",
    "\n",
    "  1. If you have a string `s`, `s.upper()` makes it all uppercase.\n",
    "  2. You may want to start searching at the beginning of the string (using the `^` symbol in the search pattern)\n",
    "    \n",
    "Below I've written the function documentation, try to implement it.\n",
    "__Take a few minutes in groups to work through this.__"
   ]
  },
  {
   "cell_type": "code",
   "execution_count": 39,
   "metadata": {},
   "outputs": [],
   "source": [
    "def count_barcodes(seqs, bclen=6, upstream='CTAGC', downstream='GATCA'):\n",
    "    \"\"\"Parse and count barcodes.\n",
    "    \n",
    "    Parameters\n",
    "    ----------\n",
    "    seqs : list\n",
    "        DNA sequences.\n",
    "    bclen : int\n",
    "        Length of barcode\n",
    "    upstream : str\n",
    "        Sequence upstream of barcode.\n",
    "    downstream : str\n",
    "        Sequence downstream of barcode.\n",
    "        \n",
    "    Returns\n",
    "    -------\n",
    "    dict\n",
    "        Keyed by each valid barcode, value is number of times the barcode\n",
    "        is observed.\n",
    "        \n",
    "    Note\n",
    "    ----\n",
    "    The function is **not** case-sensitive, and all barcodes are reported\n",
    "    in upper-case.\n",
    "    \n",
    "    \"\"\"\n",
    "    \n",
    "    barcode_id = re.compile(upstream + \"(?P<barcode>[ATCG]{\" + str(bclen) + \"})\" + downstream)\n",
    "    barcodes = {}\n",
    "    \n",
    "    for seq in seqs:\n",
    "        seq = seq.upper()\n",
    "        match = barcode_id.search(seq)\n",
    "        if match: # checks to see if there is a valid match\n",
    "            b = match.group(\"barcode\")\n",
    "            if b in barcodes:\n",
    "                barcodes[b] += 1\n",
    "            else:\n",
    "                barcodes[b] = 1\n",
    "    \n",
    "    return barcodes\n"
   ]
  },
  {
   "cell_type": "markdown",
   "metadata": {},
   "source": [
    "Run the function once you've implemented it. Does it give the right result?"
   ]
  },
  {
   "cell_type": "code",
   "execution_count": 40,
   "metadata": {},
   "outputs": [
    {
     "data": {
      "text/plain": [
       "{'ATCGAT': 2, 'GACCAT': 1}"
      ]
     },
     "execution_count": 40,
     "metadata": {},
     "output_type": "execute_result"
    }
   ],
   "source": [
    "count_barcodes(seqs)"
   ]
  },
  {
   "attachments": {},
   "cell_type": "markdown",
   "metadata": {},
   "source": [
    "## __Biopython__\n",
    "[Biopython](https://biopython.org/) is a package that has lots of useful functions for computational biology.\n",
    "\n",
    "It is very handy for things like __reading in sequences__ in many different formats and __processing sequence data__: the subpackage [Bio.SeqIO](https://biopython.org/wiki/SeqIO) is your friend!\n",
    "\n",
    "_(Do note that if you are analyzing truly large datasets, `Biopython` is not very fast and you may want to use something like [pysam](https://pysam.readthedocs.io/en/latest/api.html); but `Biopython` is a good starting point)._\n",
    "\n",
    "### Reading in a file\n",
    "I have included the file [barcodes_R1.fastq](barcodes_R1.fastq), which has some FASTQ sequences in it.\n",
    "\n",
    "Let's use `Biopython` to read the FASTQ entries.\n",
    "\n",
    "First, we'll need to import `Biopython.SeqIO`"
   ]
  },
  {
   "cell_type": "code",
   "execution_count": 41,
   "metadata": {},
   "outputs": [],
   "source": [
    "import Bio.SeqIO"
   ]
  },
  {
   "attachments": {},
   "cell_type": "markdown",
   "metadata": {},
   "source": [
    "Now read in the sequencing reads and convert them to a list:"
   ]
  },
  {
   "cell_type": "code",
   "execution_count": 42,
   "metadata": {},
   "outputs": [],
   "source": [
    "reads = Bio.SeqIO.parse('barcodes_R1.fastq', format='fastq')\n",
    "seqreads = list(reads)"
   ]
  },
  {
   "cell_type": "markdown",
   "metadata": {},
   "source": [
    "How many reads were there?"
   ]
  },
  {
   "cell_type": "code",
   "execution_count": 43,
   "metadata": {},
   "outputs": [
    {
     "name": "stdout",
     "output_type": "stream",
     "text": [
      "Found 10000 sequencing reads.\n"
     ]
    }
   ],
   "source": [
    "print(f\"Found {len(seqreads)} sequencing reads.\")"
   ]
  },
  {
   "cell_type": "markdown",
   "metadata": {},
   "source": [
    "Let's look at the first read:"
   ]
  },
  {
   "cell_type": "code",
   "execution_count": 44,
   "metadata": {},
   "outputs": [
    {
     "data": {
      "text/plain": [
       "SeqRecord(seq=Seq('GCTTAAGTTATTTAGTGCGGCCGCCTATGGTGCACTATTATTTATCTATCGTGA...AGA'), id='HISEQ:621:HMJGNBCX2:1:1101:1797:2150', name='HISEQ:621:HMJGNBCX2:1:1101:1797:2150', description='HISEQ:621:HMJGNBCX2:1:1101:1797:2150 1:N:0:ATGTCA', dbxrefs=[])"
      ]
     },
     "execution_count": 44,
     "metadata": {},
     "output_type": "execute_result"
    }
   ],
   "source": [
    "seqreads[0]"
   ]
  },
  {
   "attachments": {},
   "cell_type": "markdown",
   "metadata": {},
   "source": [
    "You can see that `BioPython` reads the sequences in as [SeqRecord](https://biopython.org/wiki/SeqRecord) objects, which have a lot of information, including the header, quality scores, etc.\n",
    "\n",
    "If you want to just access the sequence element of each `SeqRecord`, you can do this as follows:"
   ]
  },
  {
   "cell_type": "code",
   "execution_count": 45,
   "metadata": {},
   "outputs": [
    {
     "data": {
      "text/plain": [
       "Seq('GCTTAAGTTATTTAGTGCGGCCGCCTATGGTGCACTATTATTTATCTATCGTGA...AGA')"
      ]
     },
     "execution_count": 45,
     "metadata": {},
     "output_type": "execute_result"
    }
   ],
   "source": [
    "seqreads[0].seq"
   ]
  },
  {
   "cell_type": "markdown",
   "metadata": {},
   "source": [
    "Let's make a list of sequences from our `seqreads`"
   ]
  },
  {
   "cell_type": "code",
   "execution_count": 46,
   "metadata": {},
   "outputs": [],
   "source": [
    "seqreads_Seq = []\n",
    "for seqrecord in seqreads:\n",
    "    sequence = seqrecord.seq # isolate the sequence from the seqrecord\n",
    "    seqreads_Seq.append(sequence) # add string sequence to list"
   ]
  },
  {
   "cell_type": "code",
   "execution_count": 47,
   "metadata": {},
   "outputs": [
    {
     "data": {
      "text/plain": [
       "[Seq('GCTTAAGTTATTTAGTGCGGCCGCCTATGGTGCACTATTATTTATCTATCGTGA...AGA'),\n",
       " Seq('CTTCCTGGTCACGGTTGCGGCCGCCTATGGTGCATCATTATATGCAAATCCGGC...CGA'),\n",
       " Seq('CACGGCTATTACCCCGCGGCCGCCTATGGTGCACTATTATTTATCTATCGTGAA...CGA'),\n",
       " Seq('TCAGCGATGAATGTGGGCGGCCGCCTATGTTGCATCATTATATGCAAATCCGGC...TGA'),\n",
       " Seq('ATATGGGAGACGATAAGCGGCCGCCTATGGTGCATCATTATATGCAAATCCGGC...CTC')]"
      ]
     },
     "execution_count": 47,
     "metadata": {},
     "output_type": "execute_result"
    }
   ],
   "source": [
    "seqreads_Seq[0:5]"
   ]
  },
  {
   "attachments": {},
   "cell_type": "markdown",
   "metadata": {},
   "source": [
    "These sequences are a `Seq` objects"
   ]
  },
  {
   "cell_type": "code",
   "execution_count": 48,
   "metadata": {},
   "outputs": [
    {
     "data": {
      "text/plain": [
       "Bio.Seq.Seq"
      ]
     },
     "execution_count": 48,
     "metadata": {},
     "output_type": "execute_result"
    }
   ],
   "source": [
    "type(seqreads_Seq[0])"
   ]
  },
  {
   "attachments": {},
   "cell_type": "markdown",
   "metadata": {},
   "source": [
    "If you want to convert the sequences to strings, you can do so as follows:"
   ]
  },
  {
   "cell_type": "code",
   "execution_count": 49,
   "metadata": {},
   "outputs": [
    {
     "data": {
      "text/plain": [
       "'GCTTAAGTTATTTAGTGCGGCCGCCTATGGTGCACTATTATTTATCTATCGTGAAAGGGAGTTCTGCTCCATCAGGCCAAGATCGGAAGAGCACACGTCTGAACTCCAGTCACATGTCAGAATCTCGTATGCCGTCTTCTGCTTGAAAAAAAAAAAAAAGCTGAAATTAATAATTTTGAAACCAGTTTTGTAAACGCAGCACTAAAATGAAGGCATGCAACGACGATGTTTATTGACACGGAATAGCAGA'"
      ]
     },
     "execution_count": 49,
     "metadata": {},
     "output_type": "execute_result"
    }
   ],
   "source": [
    "str(seqreads_Seq[0])"
   ]
  },
  {
   "attachments": {},
   "cell_type": "markdown",
   "metadata": {},
   "source": [
    "Likewise, strings are not `Seq` objects. If you would like to create a `Seq` object from a string, you can do so as follows:"
   ]
  },
  {
   "cell_type": "code",
   "execution_count": 50,
   "metadata": {},
   "outputs": [
    {
     "data": {
      "text/plain": [
       "Seq('ATTGCT')"
      ]
     },
     "execution_count": 50,
     "metadata": {},
     "output_type": "execute_result"
    }
   ],
   "source": [
    "# This requires us to first import the Seq class\n",
    "from Bio.Seq import Seq\n",
    "\n",
    "Seq('ATTGCT')"
   ]
  },
  {
   "attachments": {},
   "cell_type": "markdown",
   "metadata": {},
   "source": [
    "### Built-in methods\n",
    "\n",
    "`Biopython` has many useful built-in functions for working with sequencing data. \n",
    "We will discuss a few examples in class from the submodule [Bio.Seq](https://biopython.org/docs/1.75/api/Bio.Seq.html), but feel free to read about more [here](https://biopython.org/wiki/Seq)"
   ]
  },
  {
   "cell_type": "code",
   "execution_count": 51,
   "metadata": {},
   "outputs": [
    {
     "data": {
      "text/plain": [
       "Seq('GCTTAAGTTATTTAGTGCGGCCGCCTATGGTGCACTATTATTTATCTATCGTGA...AGA')"
      ]
     },
     "execution_count": 51,
     "metadata": {},
     "output_type": "execute_result"
    }
   ],
   "source": [
    "seq = seqreads_Seq[0]\n",
    "seq"
   ]
  },
  {
   "attachments": {},
   "cell_type": "markdown",
   "metadata": {},
   "source": [
    "We can use this module to get the __complement__ and __reverse complement__ of a sequence:"
   ]
  },
  {
   "cell_type": "code",
   "execution_count": 52,
   "metadata": {},
   "outputs": [
    {
     "data": {
      "text/plain": [
       "Seq('CGAATTCAATAAATCACGCCGGCGGATACCACGTGATAATAAATAGATAGCACT...TCT')"
      ]
     },
     "execution_count": 52,
     "metadata": {},
     "output_type": "execute_result"
    }
   ],
   "source": [
    "seq.complement()"
   ]
  },
  {
   "cell_type": "code",
   "execution_count": 53,
   "metadata": {},
   "outputs": [
    {
     "data": {
      "text/plain": [
       "Seq('TCTGCTATTCCGTGTCAATAAACATCGTCGTTGCATGCCTTCATTTTAGTGCTG...AGC')"
      ]
     },
     "execution_count": 53,
     "metadata": {},
     "output_type": "execute_result"
    }
   ],
   "source": [
    "seq.reverse_complement()"
   ]
  },
  {
   "attachments": {},
   "cell_type": "markdown",
   "metadata": {},
   "source": [
    "We can use this module to __transcribe__ and __translate__ a sequence:"
   ]
  },
  {
   "cell_type": "code",
   "execution_count": 54,
   "metadata": {},
   "outputs": [
    {
     "data": {
      "text/plain": [
       "Seq('GCUUAAGUUAUUUAGUGCGGCCGCCUAUGGUGCACUAUUAUUUAUCUAUCGUGA...AGA')"
      ]
     },
     "execution_count": 54,
     "metadata": {},
     "output_type": "execute_result"
    }
   ],
   "source": [
    "seq.transcribe()"
   ]
  },
  {
   "cell_type": "code",
   "execution_count": 55,
   "metadata": {},
   "outputs": [
    {
     "name": "stderr",
     "output_type": "stream",
     "text": [
      "/opt/conda/lib/python3.9/site-packages/Bio/Seq.py:2979: BiopythonWarning: Partial codon, len(sequence) not a multiple of three. Explicitly trim the sequence or add trailing N before translation. This may become an error in future.\n",
      "  warnings.warn(\n"
     ]
    },
    {
     "data": {
      "text/plain": [
       "Seq('A*VI*CGRLWCTIIYLS*KGVLLHQAKIGRAHV*TPVTCQNLVCRLLLEKKKKA...E*Q')"
      ]
     },
     "execution_count": 55,
     "metadata": {},
     "output_type": "execute_result"
    }
   ],
   "source": [
    "seq.translate()"
   ]
  },
  {
   "attachments": {},
   "cell_type": "markdown",
   "metadata": {},
   "source": [
    "__If you choose to use these methods, remember that a `Seq` object is not a string. You will need to convert your sequence back to a string before using methods/functions that require strings.__"
   ]
  },
  {
   "attachments": {},
   "cell_type": "markdown",
   "metadata": {},
   "source": [
    "## __A real biological analysis: parsing barcodes__\n",
    "<a id='real_analysis'></a>\n",
    "The reads that we just read as `seqreads_Seq` come from a real sequencing run of influenza virus HA and NA genes.\n",
    "\n",
    "The __actual sequences__ are as follows:\n",
    "\n",
    "    5'-[end of HA/NA]-AGGCGGCCGC-[16 X N barcode]-3'\n",
    "\n",
    "    \n",
    "The __sequencing run reads__ from the reverse end of the molecules (in 5'>3' orientation), so the sequencing reads are as follows:\n",
    "\n",
    "    5'-[reverse complement of 16 X N barcode]-GCGGCCGCCT-[reverse complement of the end of HA/NA]-3'\n",
    "\n",
    "\n"
   ]
  },
  {
   "attachments": {},
   "cell_type": "markdown",
   "metadata": {},
   "source": [
    "We want to determine which reads have valid sequences, get the barcodes out of strings, and count the barcodes.\n",
    "So this requires setting up an analysis that does the following:\n",
    "\n",
    " 1. Get the reverse complement of each read.\n",
    " 2. Determine if it matches the expected pattern (with the correct length barcode and constant sequence)\n",
    " 3. If it matches, extract the barcode and add it to a dictionary to keep track of counts.\n",
    "\n",
    "### __Group activity__\n",
    "In groups, work together to write some code to do this.\n",
    "I have created a code chunk for each step (with some parts filled in). \n",
    "Remember to run the code chunks in the correct order!\n",
    "\n",
    "For your homework, you will be asked to extend this in-class analysis to get statistics for HA and NA seperately."
   ]
  },
  {
   "cell_type": "code",
   "execution_count": 56,
   "metadata": {},
   "outputs": [],
   "source": [
    "# load necessary packages\n",
    "import re\n",
    "import Bio.SeqIO\n",
    "from Bio.Seq import Seq"
   ]
  },
  {
   "attachments": {},
   "cell_type": "markdown",
   "metadata": {},
   "source": [
    "__Step 1:__ You'll need to write a function that identifies a barcode with a known upstream sequence. \n",
    "I've provided the documentation here--__try writing this function on your own.__\n",
    "\n",
    "_Hint: we wrote a similar function yesterday_\n",
    "\n",
    "_Hint 2: You can use the built-in reverse complement method_\n",
    "\n",
    "_Hint 3: You will want to convert the sequence to a string before searching for regular expressions_"
   ]
  },
  {
   "cell_type": "code",
   "execution_count": 57,
   "metadata": {},
   "outputs": [],
   "source": [
    "def read_barcode(seqread, bclen, upstream='AGGCGGCCGC'):\n",
    "    \"\"\"Identify barcode with known upstream sequence.\n",
    "    \n",
    "    Parameters\n",
    "    ----------\n",
    "    seqread : Seq object\n",
    "        Nucleotide sequence read matching UPSTREAM-BARCODE in reverse orientation.\n",
    "    bclen : int\n",
    "        Length of barcode\n",
    "    upstream: str\n",
    "        Sequence upstream of the barcode.\n",
    "        \n",
    "    Returns\n",
    "    -------\n",
    "    str or None\n",
    "        Sequence of the barcode in the forward orientation, or `None` if no match to expected barcoded sequence.\n",
    "        \n",
    "    Example\n",
    "    -------\n",
    "    >>> read_barcode('TTTTTTTTTTTTTTTTGCGGCCGCCT', bclen=16)\n",
    "    'AAAAAAAAAAAAAAAA'\n",
    "        \n",
    "    \"\"\"\n",
    "    sequence = seqread.reverse_complement()\n",
    "    sequence_str = str(sequence)\n",
    "    \n",
    "    barcode_re = re.compile(upstream + \"(?P<barcode>[ATCG]{\" + str(bclen) + \"})$\")\n",
    "    \n",
    "    match = barcode_re.search(sequence_str)\n",
    "    if match:\n",
    "        barcode = match.group(\"barcode\")\n",
    "    else:\n",
    "        barcode = None\n",
    "    \n",
    "    return barcode"
   ]
  },
  {
   "attachments": {},
   "cell_type": "markdown",
   "metadata": {},
   "source": [
    "__Step 2:__ Read sequences from the barcodes_R1.fastq file and create a list of only the sequences (as Seq objects). __We already did this step earlier__"
   ]
  },
  {
   "cell_type": "code",
   "execution_count": 58,
   "metadata": {},
   "outputs": [],
   "source": [
    "# run this code chunk...\n",
    "seqreads = list(Bio.SeqIO.parse('barcodes_R1.fastq', 'fastq'))\n",
    "\n",
    "seqreads_Seq = []\n",
    "for seqrecord in seqreads:\n",
    "    seqreads_Seq.append(seqrecord.seq)"
   ]
  },
  {
   "cell_type": "markdown",
   "metadata": {},
   "source": [
    "__Step 3:__ Get the counts of all barcodes. _(Hint: you might want to store barcodes and counts in a dictionary, and also keep track of the number of sequences that don't have a valid barcode)_\n",
    "\n",
    "Please name your dictionary `barcode_counts`"
   ]
  },
  {
   "cell_type": "code",
   "execution_count": 61,
   "metadata": {},
   "outputs": [
    {
     "name": "stdout",
     "output_type": "stream",
     "text": [
      "{'invalid': 569, 'ACTAAATAACTTAAGC': 63, 'AACCGTGACCAGGAAG': 70, 'CCACATTCATCGCTGA': 30, 'TTATCGTCTCCCATAT': 78, 'CTACCCGTTTCCCAAC': 124, 'CATACCAGTCATCCCT': 29, 'ACTTACGTATAAGTCA': 56, 'GCTACTACTATACCAT': 127, 'CGTCTTCCATCCCCAT': 136, 'GCGAGTCCACCAATTG': 97, 'GTTACCCACAGTCCGC': 64, 'ATATAAATAAGCTATG': 51, 'CACCACACAAGGATGT': 43, 'TCTTTTCTTATTGAGG': 74, 'CTTAACCTTCCGACAA': 57, 'ATAAACGTTCCCCAAG': 111, 'TCATACATCACACTTA': 48, 'GTACCCTCCGTGAATC': 100, 'ACTCCACGCTACCACG': 34, 'GCACTCCTCAACCCTT': 48, 'CCGCTCCCTGCTGTCC': 43, 'ACCCGTGAACCAAAGC': 1, 'AATCGTACATCCCCAC': 127, 'CCACCAGCCATACGGC': 93, 'AAACGTAGCGATAACT': 62, 'TGGACTCCACACCCCG': 79, 'TCACGTCCCATATTAC': 10, 'TCAAGAAGCCTTGGAG': 152, 'TTTCTCCCGCATCTCG': 105, 'AATCAATACGACCTGT': 74, 'TGACAATACCCTACTC': 48, 'CCCGACCCGACATTAA': 158, 'ACGAGAGGTCGACTCG': 61, 'TTCGACTTCCTAGTAC': 87, 'TTTCTCCCCCATCTCG': 1, 'CATTCACTACTCCCAA': 94, 'TCACCAGTGATCCCTT': 67, 'ACCACCGCCACACCCT': 47, 'ACCCAGTCTAGCTAAC': 71, 'GGTCATACGCCTTCGC': 17, 'GCTGCATTCCTGTGGC': 74, 'GTTCAGGACACACTTA': 71, 'TGGGCAATAAATGTAG': 58, 'CCAGCCTCACACTAGC': 110, 'CCCTCATCCTGTGTCA': 56, 'ACGCGTGAACCAAAGC': 106, 'AATTCCATTCAGGCTG': 35, 'TTCTAGCCTTATCTCC': 83, 'TGACGATCCTCAAGAA': 145, 'ACCAGTTCTCCCCGGG': 154, 'AGAATAATCTCAAACT': 63, 'AAACAAACAAGTCTGT': 53, 'TCACGGCCACGAGTAA': 66, 'AATACGAACATCTCGG': 52, 'CGAATCTGCGCAATCT': 60, 'GATTTCCGATCAGTCT': 127, 'TAACACTGATGGCAAC': 79, 'AGAACGTCTTGATAGC': 32, 'GCATGTTATAAACTCC': 45, 'TCACCCCGACCAGCAG': 33, 'GACCGGTGCTTCAACA': 77, 'TTCCACCTCACCTTCT': 95, 'TGCTGACAACACGTAA': 49, 'ATAGTCGGGCCTACCG': 22, 'GATAGTCGAACACATG': 88, 'TGATGTAATGACAGGC': 75, 'TTCCCAATGGTACTCG': 29, 'CTGGCAAGAAAATTCC': 44, 'TTCGGTGAACGTACAC': 76, 'CTCCATCACTCGCCAA': 116, 'GCACATAGGGAGCCAA': 58, 'TCAACCCCACGCCGCT': 25, 'TCTGGCAGGCCTCGCT': 123, 'TAACTAGCGTTTTCAA': 1, 'AGTACTCATCGAGCAA': 31, 'AACCGTCACCTCAACC': 107, 'GAACGACCCTTAACTA': 18, 'TCCAGAAACTTCAATG': 73, 'GAACCCTAGAATCCCC': 71, 'ACACGATACCCTTGAG': 27, 'CTAATTCAATCCTACG': 102, 'CCAGCCATCCCCTCTT': 77, 'ATTCACACTCCTGCCA': 24, 'TACTTATTAGCATGTC': 46, 'CTTACCATATTACAAA': 105, 'GGAAATTATACTGCCA': 10, 'TGTACAGCAAAAGTAG': 72, 'GCCCCACAATAACCGC': 40, 'TGACATCGCGAGACGG': 74, 'GCACGCGATCTGCGAC': 33, 'AGGCACTAACCCAGCA': 39, 'CCATGTCTTGCTCGCC': 26, 'ACTTCATACCATTACA': 32, 'TCAAGCCTGCCACACG': 39, 'AAATTTCTTCCCACAC': 17, 'CTCTCAGTTTACGAAA': 19, 'CCCACCTTCACACCTA': 65, 'ACGAACGTCAAAAAAA': 5, 'GCACTTACATATATGA': 72, 'GTCGCATATGAAGACG': 40, 'ACAAAACCCCCCGACA': 27, 'ACTCGTTGTCCCATAA': 21, 'TCCGTATATCCAAAAG': 14, 'GAGCGTCCCTTCTAAA': 38, 'TCGCTCAGTCGTCTTT': 38, 'GTTACCCACAGTCGGC': 1, 'GAAATCCCTAACGGGC': 17, 'ATTTACGGGCTAGTTG': 7, 'AGACCGTCAGGCACCA': 47, 'TTCCCTAGAGACTACC': 37, 'TGACAACCACGTCCCC': 29, 'GCAAGAAGCCTTGGAG': 1, 'ATACTCTAAAAAATGA': 61, 'CACAACACGTACGCAA': 39, 'TGCACACACACCACGT': 39, 'CCCAGATCCCACCCGC': 12, 'GAGTCACAACCCTGCT': 1, 'ACTGATCAAAGCGTGG': 34, 'ACCGACTCACAGTACT': 55, 'TCGGGCGACTTAAATG': 21, 'ACGAAACTCATATAAA': 74, 'ACTGCCATCCCACACC': 49, 'GGTTCCGTGTGTGGAC': 41, 'GATCTCCCAAGTTGCC': 29, 'CGAGGCGGAAGGCGTC': 18, 'CGCAGCCGGACTCACA': 70, 'CGGAACGCCATCACCG': 14, 'TGATTTACCTAACCCG': 49, 'CTGGGTCCCCCCCAAA': 27, 'AAATGAGACAGCCTAC': 45, 'GAGTCACAACCCGGCT': 66, 'TCCCCTCACGGATTCA': 43, 'GTCAAGCGTCTAACCA': 23, 'CGCGTTAAGATCACCA': 21, 'CCCAGACCGTGAGCCA': 25, 'CAGTGATTTATTTGCG': 30, 'CGTCATAGAGACGGTT': 69, 'TGCAATACCAATAACT': 32, 'CTTAGTATTTCAGTAT': 84, 'GCTGCACCAGCTCCTC': 15, 'GTCGCATATGAAGACT': 4, 'TGACATCACGAGACGG': 1, 'ACACCGGTTCCTCCCC': 20, 'GAACCCTAGAAACCCC': 2, 'CGATCCCGTCCAGACA': 50, 'ACGGATAATTACCGCC': 32, 'CACACACCGTGACAGG': 88, 'CTTAACCGTCCGACAC': 1, 'GGAACACTGTGAAGCA': 42, 'CGAATCTTCGCAATCT': 1, 'ATTACCCCCATTTAAG': 11, 'CTCACTTATTGTTCTG': 50, 'GACCTCTCAGATTAGA': 42, 'CCAATCCCCTCGAGTG': 24, 'GGTTTTCTAACACCGC': 9, 'CGTCTTCCATCCACAT': 1, 'GTGAACTTACAGCTCC': 30, 'CCCCTATCATACTCTC': 6, 'ACTCGATTACACGTGC': 84, 'GCATTTTATAAACTCC': 1, 'AGGGTAGTCGACTACT': 15, 'ACGCGTGAACCAAAGG': 1, 'GCGAAATGCAATCCTC': 26, 'ATAGTACCGCTCGCAA': 1, 'TCTTAACAGCGTCAGC': 18, 'CCGTACCCAAGACCAT': 12, 'GCGTATAAGTACGCCG': 51, 'GGGTCCACGTCCCAAG': 6, 'CGGCCCCAACGCAATA': 23, 'TTATACCTTAGTCAGT': 42, 'GGGCGTCCCTTCTAAA': 1, 'CCCCCCACTACAATTA': 39, 'TCACCCCGACCAGAAG': 1, 'GAGCACATTTATTCGT': 1, 'ATTGCCCGGTGGCCCT': 39, 'TATCGTACATCCCCAC': 1, 'ATTGCATAACTACAAC': 76, 'CGTCTTCCATCCCCAC': 10, 'AATTCCATTCGGGCTG': 1, 'GACCCCTACTTAGTGG': 23, 'TGCCCTGAGCCTGCAC': 8, 'ACGGAAACCCAGGCCA': 39, 'TCTGACTAGCACATCG': 19, 'ACCAGTGCTCCCCGGT': 1, 'CATCATAGAGACGGTT': 1, 'ACTTCATACCTTTACA': 1, 'GCTGCACCGGCTCCTC': 1, 'AATAAGAACATCTCGG': 1, 'CCTTTGCTTCGTAATA': 15, 'AAGCTTTCGTCGCGCA': 4, 'TGTCTAAATGTCCACG': 2, 'TCACCACTGATCCCTT': 1, 'AGAGTAGTCGACTACT': 1, 'CCTGCATTCTGGATGC': 4, 'CGACGCAGCACCCCAT': 15, 'GACAGAGCTAGCACAG': 18, 'CTTAACCGTCCGACAA': 1, 'CGGTGCTACCTTCTAT': 1, 'GACCGGGGCTTCAACA': 1, 'GTTCAGTACACACTTA': 1, 'GTTTCATCCCCCTATC': 19, 'ACGCGTGAACAAAAGC': 2, 'CGGAATCAACCCCCTC': 10, 'TTAGAAGAAATCAAAT': 7, 'CATCATTCTTACTAAA': 32, 'CCCTGACCTAACCACG': 1, 'TCAGTATATCCAAAAG': 2, 'AGTAAATTCCCGGACG': 6, 'CGCACAATACTTCGAC': 36, 'ACAAAACCCCCCGATA': 1, 'ATAAACGTTCCCCAAT': 1, 'TGAGTTTGCAACGAAC': 6, 'TTCGGTGAACGAACAC': 1, 'TCACCAGTTATCCCTT': 1, 'GGACGCGATCTGCGAC': 1, 'TCAACCCCACGCCTCT': 1, 'GACCACATTTATTCGT': 45, 'ACATAAATTAAAGGAA': 7, 'AATACGAACATCTAGG': 2, 'GTTCAGGAGACACTTA': 1, 'TCCACCCACTCGCGAT': 3, 'GCGAGTCAACCAATTG': 1, 'ACGAAAGTCATATAAA': 1, 'ACCAGTGCGCCCCGGG': 1, 'TTTCTCCCGCATCTCC': 1, 'GCCGCAAGGAACGCTT': 15, 'TCCTCTAGCATCCCCA': 16, 'GATAGGCGAACACATG': 1, 'TCCAGAAACTTGAATG': 1, 'TCGGACGGTATACTGC': 11, 'TAAAAACGTTATAACA': 28, 'TGTACAACAAAAGTAG': 1, 'AAGAAACTCATATAAA': 1, 'CCACCGTGGCAGCCCG': 25, 'CGTCTTCCATCCGCAT': 1, 'CCCGACCCCACATTAA': 1, 'CACCGTAATGTCCTAC': 8, 'TCCACCCACTCGAGAT': 1, 'AGGCACTAACCAAGCA': 1, 'TCGGGGGACTTAAATG': 1, 'AAACTTAATAATTTCC': 1, 'GGGTATAAGTACGCCG': 2, 'ACCAGTTCTCCCCTGG': 2, 'ATACCCTCCGTGAATC': 1, 'AAAGGTAGCGATAACT': 1, 'TGTGCAGCAAAAGTAG': 1, 'TAATACATCACACTTA': 1, 'GAACCCTAGAAGCCCC': 1, 'ACTGATCAAAGCGTGT': 1, 'TCAAGAAGCCTTGGTG': 1, 'CATCACGCCCGTTAGC': 18, 'GGTGATACGCCTTCGC': 1, 'GTTCAGGATACACTTA': 1, 'ACACTCACGACCCAAA': 16, 'AGAATCTGCGCAATCT': 1, 'TGTACAGCAAGAGTAG': 1, 'CCTTTGCTTCGTAACA': 1, 'ACGAAAACCCGGGCCA': 1, 'AAACTTACTAATTTCC': 6, 'CGAATCTGCGCAAACT': 1, 'ATTTCATAACTACAAC': 2, 'AGAGGCGGAAGGCGTC': 1, 'TTGGCCTGCCCTAAAT': 2, 'CGGCCCCAACGCAATG': 1, 'TAACACTGATGGAAAC': 2, 'CGTCGGCCTGTTCATA': 3, 'ACATGTCTTGCTCGCC': 1, 'TGAATTACCTAACCCG': 1, 'CATCACGCCCCTTAGC': 1, 'CTCGACCCGAGGTTAA': 1, 'CGTCTTCCATCCCAAT': 1, 'TTTGTCCCTTGAACCC': 1, 'ACGGATAATTACCGGC': 1, 'TGGAATACCAATAACT': 1, 'ATGGGTCCCCCCCAAA': 1, 'AATACGAGCATCTCGG': 1, 'TAACACTTATGGCAAC': 1, 'ACCAGTTCTCCCCGGA': 2, 'CGTCATAGAGAAGGTT': 1, 'ACGAGAGGCCGACTCG': 1, 'TTACTCTAAAAAATGA': 1, 'ACTAAAGAACTTAAGC': 1, 'TGACATAGCGAGACGG': 1, 'CGAATCTGCGCAATCC': 1, 'TGGGCAATAAACGTAG': 1, 'TTATACCTTAGTCTGT': 1, 'TCTTAACAGCATCAGC': 1, 'CCCGACCGGACATTAA': 1, 'TTCGACTTCCTAATAC': 1, 'TAATATATGGATATTC': 13, 'AATCAATACCACCTGT': 1, 'CACACCAGTCATCCCT': 1, 'GTTAGTATTTCAGTAT': 1, 'ACCCACCTATTGACCC': 2, 'CGACGCAGCACCCCCT': 1, 'ACCAGTTCTCCCAGGG': 1, 'ACGCGTGAACCAAATC': 1, 'ATATAAATAATCTATG': 1, 'GTCTCCCATCATGTAG': 2, 'AACCGTCACCTCTACC': 1, 'ACCAAGTCTAGCTAAC': 1, 'AACTGTGACCAGGAAG': 1, 'ATAGTCGGGACTACCG': 1, 'GCGGCAGAGCTGCTTT': 6, 'AAATGAGACAGACTAC': 1, 'AGATTAATCTCAAACT': 1, 'TTTCTCACGCATCTCG': 1, 'GACTTACGGCGTCATG': 2, 'GTACACTCCGTGAATC': 1, 'ACACTCCTCAACCCTT': 1, 'ACCAGTGCTCCCCGGG': 1, 'TGGGAAATAAATGTAG': 1, 'AAAAAACCCCCCGACA': 1, 'CATACCTTTCTGACTT': 3, 'TGACATCTCGAGACGG': 1, 'CCACCGTGTCAGCCCG': 1, 'TTCGAATTCCTAGTAC': 1, 'GATCTCTCAGATTAGA': 1, 'GCCCCACAATAACCAC': 1, 'TGGGCAAGAAATGTAG': 1, 'CACAACACGTACGTAA': 1, 'ACTCGATTACGCGTGC': 1, 'GCACGCGATCTCCGAC': 1, 'GATAGTTGAACACATG': 1, 'TGACATCGCGATACGG': 1, 'AACCGTCACCTCAAAC': 1, 'AAACAAACAAGTGTGT': 1, 'TGACTATCCTCAAGAA': 1, 'CTCAGTATTTTAGTTT': 1, 'ACTCAATTACACGTGC': 1, 'TGACAATACCCTACCC': 1, 'TCTGGCAGGACTCGCT': 1, 'TCACGGCCACGATTAA': 1, 'TATCATTCTTACTAAA': 1, 'TGACAACCACATCCCC': 1, 'ATGGAAACCCAGGCCA': 1, 'ATTGAATAACTACAAC': 1, 'AATAGTACATCCCCAC': 1, 'ATAAACGTTCCCCAAA': 1, 'GCTGCATTCCTGTGGA': 1, 'GGACTTACATATATGA': 1, 'AGGGGCACGAGTCGCC': 2, 'CGTCCCAGTAGAGTCT': 1, 'TCAAGAAACTTCAATG': 1, 'CTGGGTCGCCCCCAAA': 1, 'ATCGACTCACAGTACT': 1, 'TCCGTATAACCAAAAG': 1, 'GGTCATACGCCTCCGC': 1, 'ACAGGCAGCTACGGGA': 3, 'AGAATAATCTCAGACT': 1, 'TTATCGTCTCCCATAC': 1, 'AAACTTACTAATGTCC': 1, 'CTTAGTAGTTCAGTAT': 1, 'CTTACCATATTAAAAA': 1, 'TTCGGTGAAAGTACAC': 1, 'GACCACATTTATCCGT': 1, 'AATCAATACGACCTTT': 1, 'CCGCTCCCTCCTGTCC': 1, 'AAACGTGACCAGGAAG': 1, 'GACACTCCAGTCGACA': 1, 'CCACCGTGGGAGCCCG': 1, 'ACCGACTGACAGTACT': 1, 'ATCACTTATTGTTCTG': 1, 'TGCTGACAACGCGTAA': 1, 'GCTGCACCATCTCCTC': 1, 'CGTCTTCCATCCTCAT': 1, 'ACCAGACCGTGAGCCA': 1, 'GGAAATTATACTCCCA': 1, 'TGCAATACCAATAACG': 1, 'GTTCACGACACACTTA': 1, 'TATTTCCGATCAGTCT': 1, 'GATATAGCTAGCACAG': 1, 'GTTTCATACCCCTATC': 1, 'GTACCCTACGTGAATC': 1, 'GTGAACTTAAAGCTCC': 1, 'GTCCCATATGAAGACG': 1, 'AGTACTCATCGTGCAA': 1, 'CCCAGACCGTGAGACA': 1, 'CTCCTTCACTCGCCAA': 1, 'CGAATCTGCGCAATAT': 1, 'TGACGAGCCTCAAGAA': 1, 'AATCGTACATCCCCGC': 1, 'GCATGTTATAAACTCA': 1, 'CACACACCTTGACAGG': 1, 'AATCGTACATCAACAC': 1, 'GCGAAATGCAATCCCC': 1, 'GCGACTCCACCAATTG': 1, 'CCCACCTTCACAACTA': 1, 'AGCACACCCAGCTCGA': 1, 'CATTCACTAATCCCAA': 1, 'AGACCGTCAGACACCA': 1, 'CGAGGCGGAAGGGGTC': 1, 'CTAATTCAATCATACG': 1, 'GTACCATCCGTGAATC': 1, 'CAAGCCATCCCCTCTT': 1, 'ATATAAAGAAGCTATG': 1, 'ACCACCGCCACACCCC': 1, 'TTCCCTAGAGACTAAC': 1, 'CGACGCAACACCCCAT': 1, 'TCTTAACATCGTCAGC': 1, 'CGAATCTGAGCAATCT': 1, 'GATAGTCGAGCACATG': 1, 'GCACATAGGGAGCAAA': 1, 'CATTCACTACTCCCAT': 1, 'TCACGTCCACGAGTAA': 1, 'ACCGACCAGACATTAA': 1, 'ACGGACCCGCAGGCCA': 1, 'ATTCACACTACTGCCA': 1, 'CCGCTCCCTGCTGTAC': 1, 'GTACCCTCCTAGAATT': 1, 'TCTCCAGTGATCCCTT': 1, 'ACACTCACCACCCAAA': 1, 'TAGACTCCACACCCCG': 1, 'TACGGTGAACGTACAC': 1, 'GCTGCATGCCTGTGGC': 1, 'GCAGCCTCACACTAGC': 1, 'CCCTACCCGACATTAA': 1, 'TGACAAACACGTCCCC': 1, 'ACTGCCATCCCACTCC': 1, 'ATATAAATAAGCTATA': 1, 'GTAAACGTTCCCCAAG': 1, 'TCAAGAAGGCTTGGAG': 1, 'CTTACCATATTACAAT': 1, 'AGGCCCCAACGCAATA': 1, 'TCAAGCCTGCCATACG': 1, 'ATAGTCGAGCCTACCG': 1, 'CATTAACTACTCCCAA': 1, 'ACCGACGCACAGTACT': 1, 'GCACGCGATTTGCGAC': 1, 'TCTGGCAGGCCTCGAT': 1, 'ATTGCATGACTACAAC': 1, 'TTACGATCCTCAAGAA': 1, 'GCACATAAGGAGCCAA': 1, 'AATACGAACATATCGG': 1, 'GCTACTACTATACCTT': 1}\n"
     ]
    }
   ],
   "source": [
    "barcode_counts = {'invalid':0}\n",
    "\n",
    "for seq in seqreads_Seq:\n",
    "    barcode = read_barcode(seq, bclen=16)\n",
    "    if barcode:\n",
    "        if barcode in barcode_counts:\n",
    "            barcode_counts[barcode] += 1\n",
    "        else:\n",
    "            barcode_counts[barcode] = 1\n",
    "    else:\n",
    "        barcode_counts['invalid'] += 1\n",
    "\n",
    "print(barcode_counts)"
   ]
  },
  {
   "cell_type": "markdown",
   "metadata": {},
   "source": [
    "__Step 4:__ Report the total number of sequences parsed, and how many lacked a valid barcode."
   ]
  },
  {
   "cell_type": "code",
   "execution_count": 62,
   "metadata": {},
   "outputs": [
    {
     "name": "stdout",
     "output_type": "stream",
     "text": [
      "There were 10000 sequences parsed and 569 lacked valid barcodes\n"
     ]
    }
   ],
   "source": [
    "print(f\"There were {sum(barcode_counts.values())} sequences parsed and {barcode_counts['invalid']} lacked valid barcodes\")"
   ]
  }
 ],
 "metadata": {
  "kernelspec": {
   "display_name": "Python 3.9.12 ('base')",
   "language": "python",
   "name": "python3"
  },
  "language_info": {
   "codemirror_mode": {
    "name": "ipython",
    "version": 3
   },
   "file_extension": ".py",
   "mimetype": "text/x-python",
   "name": "python",
   "nbconvert_exporter": "python",
   "pygments_lexer": "ipython3",
   "version": "3.9.12"
  },
  "toc": {
   "nav_menu": {},
   "number_sections": false,
   "sideBar": true,
   "skip_h1_title": false,
   "toc_cell": false,
   "toc_position": {
    "height": "623.8px",
    "left": "0px",
    "right": "829.6px",
    "top": "33.2px",
    "width": "322.4px"
   },
   "toc_section_display": "block",
   "toc_window_display": true
  },
  "vscode": {
   "interpreter": {
    "hash": "d4d1e4263499bec80672ea0156c357c1ee493ec2b1c70f0acce89fc37c4a6abe"
   }
  }
 },
 "nbformat": 4,
 "nbformat_minor": 4
}
