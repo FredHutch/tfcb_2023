{
 "cells": [
  {
   "attachments": {},
   "cell_type": "markdown",
   "metadata": {},
   "source": [
    "# __Homework 4:__ Practical analysis with BioPython"
   ]
  },
  {
   "attachments": {},
   "cell_type": "markdown",
   "metadata": {},
   "source": [
    "For the homework, you are going to extend the code from the analysis of our FASTQ file in lectures 8 and 9.\n",
    "Recall that the FASTQ file contains reads from a real sequencing run of influenza virus HA and NA genes.\n",
    "\n",
    "---\n",
    "The __actual sequences__ are as follows:\n",
    "\n",
    "    5'-[end of HA]-AGGCGGCCGC-[16 X N barcode]-3'\n",
    "or \n",
    "\n",
    "    5'-[end of NA]-AGGCGGCCGC-[16 X N barcode]-3'\n",
    "---\n",
    "\n",
    "\n",
    "__The end of NA is__ `...CACGATAGATAAATAATAGTGCACCAT`\n",
    "    \n",
    "__The end of HA is__ `...CCGGATTTGCATATAATGATGCACCAT`\n",
    "\n",
    "---    \n",
    "\n",
    "    \n",
    "The __sequencing reads__ from the reverse end of the molecules (in 5'>3' orientation), so the sequencing reads are as follows:\n",
    "\n",
    "    5'-[reverse complement of 16 X N barcode]-GCGGCCGCCT-[reverse complement of the end of HA]-3'\n",
    "or\n",
    "\n",
    "    5'-[reverse complement of 16 X N barcode]-GCGGCCGCCT-[reverse complement of the end of NA]-3'\n",
    "\n",
    "---   \n",
    "    \n",
    "The reads can originate from **either** HA or NA, and that will be distinguished by the most 3' end of the read.\n",
    "But in our example exercise in class, we did not distinguish among reads matching to HA and NA, as we didn't even look far enough into the read to tell the identity.\n",
    "\n",
    "For the homework, your goal is to write code that extends the material from lectures 8 and 9 to also distinguish between HA and NA.\n",
    "This homework can be completed almost entirely by re-using code from lecture 9. You will need to set up your analysis to do the following:\n",
    " 1. Get the reverse complement of each read.\n",
    " 2. Determine if it matches the expected pattern for HA and NA, and if so which one.\n",
    " 3. If it matches, extract the barcode and add it to a dictionary to keep track of counts.\n",
    " 4. Determine the number and distribution of barcodes for HA and NA separately.\n",
    "\n",
    "Please include code to address each of the following questions. Please include code comments to explain what your code is attempting to accomplish. Don't forget to include references to the sources you used to obtain your answer, including your classmates (if you are working in groups).  "
   ]
  },
  {
   "cell_type": "markdown",
   "metadata": {},
   "source": [
    "1. How many reads map to HA, and how many reads map to NA?"
   ]
  },
  {
   "cell_type": "code",
   "execution_count": null,
   "metadata": {},
   "outputs": [],
   "source": [
    "# your code here..."
   ]
  },
  {
   "attachments": {},
   "cell_type": "markdown",
   "metadata": {},
   "source": [
    "2. How many HA sequences did not have a valid barcode? Also anwer the same question for NA."
   ]
  },
  {
   "cell_type": "code",
   "execution_count": null,
   "metadata": {},
   "outputs": [],
   "source": [
    "# your code here..."
   ]
  },
  {
   "attachments": {},
   "cell_type": "markdown",
   "metadata": {},
   "source": [
    "3. What is the HA barcode with the most counts (and how many counts)? Also answer the same question for NA.\n",
    "\n",
    "    _Hint: you will need to find the key associated with the maximum value in your dictionary. There are many ways to do this._"
   ]
  },
  {
   "cell_type": "code",
   "execution_count": null,
   "metadata": {},
   "outputs": [],
   "source": [
    "# your code here..."
   ]
  }
 ],
 "metadata": {
  "kernelspec": {
   "display_name": "Python 3.9.12 ('base')",
   "language": "python",
   "name": "python3"
  },
  "language_info": {
   "codemirror_mode": {
    "name": "ipython",
    "version": 3
   },
   "file_extension": ".py",
   "mimetype": "text/x-python",
   "name": "python",
   "nbconvert_exporter": "python",
   "pygments_lexer": "ipython3",
   "version": "3.9.12"
  },
  "toc": {
   "nav_menu": {},
   "number_sections": false,
   "sideBar": true,
   "skip_h1_title": false,
   "toc_cell": false,
   "toc_position": {
    "height": "623.8px",
    "left": "0px",
    "right": "829.6px",
    "top": "33.2px",
    "width": "322.4px"
   },
   "toc_section_display": "block",
   "toc_window_display": true
  },
  "vscode": {
   "interpreter": {
    "hash": "d4d1e4263499bec80672ea0156c357c1ee493ec2b1c70f0acce89fc37c4a6abe"
   }
  }
 },
 "nbformat": 4,
 "nbformat_minor": 2
}
